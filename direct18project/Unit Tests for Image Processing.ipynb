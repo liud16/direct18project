{
 "cells": [
  {
   "cell_type": "code",
   "execution_count": null,
   "metadata": {},
   "outputs": [],
   "source": [
    "import numpy as np\n",
    "import matplotlib.pyplot as plt\n",
    "from skimage import morphology\n",
    "import cv2"
   ]
  },
  {
   "cell_type": "markdown",
   "metadata": {},
   "source": [
    "### Function for bckgrnd_correc_rect"
   ]
  },
  {
   "cell_type": "code",
   "execution_count": null,
   "metadata": {},
   "outputs": [],
   "source": [
    "def bckgrnd_correc_rect(image, row_len, col_len):\n",
    "    \n",
    "    \"\"\"Background correction using a rectangular structuring element. This function uses white_tophat from \n",
    "    skimage.morphology to return image minus the morphological opening obtained from the structuring element.\"\"\"\n",
    "    \n",
    "    # Checking the right data type for the input image\n",
    "    assert type(image) == np.ndarray, ('Wrong data type', 'image must be a numpy array')\n",
    "    \n",
    "    # Checking the right data type for the row length of the rectangular structuring element\n",
    "    assert type(row_len) == float, ('Wrong data type', 'row length must be a float')\n",
    "    \n",
    "    # Checking the right data type for the column length of the rectangular structuring element\n",
    "    assert type(col_len) == float, ('Wrong data type', 'column length must be a float')\n",
    "    \n",
    "    # background corrrection \n",
    "    image_bckgrnd_corrected = morphology.white_tophat(image, morphology.rectangle(row_len,col_len))\n",
    "    \n",
    "    # plotting image\n",
    "    plt.gray()\n",
    "    plt.imshow(image_bckgrnd_corrected)\n",
    "    plt.colorbar()\n",
    "    \n",
    "    return image_bckgrnd_corrected\n",
    "\n"
   ]
  },
  {
   "cell_type": "markdown",
   "metadata": {},
   "source": [
    "### Unit Test for bckgrnd_correc_rect"
   ]
  },
  {
   "cell_type": "code",
   "execution_count": null,
   "metadata": {},
   "outputs": [],
   "source": [
    "def test_bckgrnd_correc_rect():\n",
    "    \n",
    "    return"
   ]
  },
  {
   "cell_type": "markdown",
   "metadata": {},
   "source": [
    "### Function for bckgrnd_correc_sq"
   ]
  },
  {
   "cell_type": "code",
   "execution_count": null,
   "metadata": {},
   "outputs": [],
   "source": [
    "def bckgrnd_correc_sq(image, length):\n",
    "    \n",
    "    \"\"\"Background correction using a square structuring element. This function uses white_tophat from \n",
    "    skimage.morphology to return image minus the morphological opening obtained from the structuring element.\"\"\"\n",
    "    \n",
    "    # Checking the right data type for the input image\n",
    "    assert type(image) == np.ndarray, ('Wrong data type', 'image must be a numpy array')\n",
    "    \n",
    "    # Checking the right data type for the length of the square structuring element\n",
    "    assert type(length) == float, ('Wrong data type', 'length of the square structuring element must be a float')\n",
    "    \n",
    "    # background correction\n",
    "    image_bckgrnd_corrected = morphology.white_tophat(image, morphology.square(length))\n",
    "    \n",
    "    # plotting image\n",
    "    plt.gray()\n",
    "    plt.imshow(image_bckgrnd_corrected)\n",
    "    plt.colorbar()\n",
    "    \n",
    "    return image_bckgrnd_corrected"
   ]
  },
  {
   "cell_type": "markdown",
   "metadata": {},
   "source": [
    "### Unit Test for bckgrnd_correc_sq"
   ]
  },
  {
   "cell_type": "code",
   "execution_count": null,
   "metadata": {},
   "outputs": [],
   "source": [
    "def test_bckgrnd_correc_sq():\n",
    "    \n",
    "    \n",
    "    return"
   ]
  },
  {
   "cell_type": "markdown",
   "metadata": {},
   "source": [
    "### Function for bckgrnd_correc_disk"
   ]
  },
  {
   "cell_type": "code",
   "execution_count": null,
   "metadata": {},
   "outputs": [],
   "source": [
    "def bckgrnd_correc_disk(image, radius):\n",
    "    \n",
    "    \"\"\"Background correction using a disk structuring element. This function uses white_tophat from \n",
    "    skimage.morphology to return image minus the morphological opening obtained from the structuring element.\"\"\"\n",
    "    \n",
    "    # Checking the right data type for the input image\n",
    "    assert type(image) == np.ndarray, ('Wrong data type', 'image must be a numpy array')\n",
    "    \n",
    "    # Checking the right data type for the length of the square structuring element\n",
    "    assert type(radius) == float, ('Wrong data type', 'radius of the disk structuring element must be a float')\n",
    "    \n",
    "    # background correction\n",
    "    image_bckgrnd_corrected = morphology.white_tophat(image, morphology.disk(radius))\n",
    "    \n",
    "    # plotting image\n",
    "    plt.gray()\n",
    "    plt.imshow(image_bckgrnd_corrected)\n",
    "    plt.colorbar()\n",
    "    \n",
    "    return image_bckgrnd_corrected\n",
    "        "
   ]
  },
  {
   "cell_type": "markdown",
   "metadata": {},
   "source": [
    "### Unit Test for bckgrnd_correc_disk"
   ]
  },
  {
   "cell_type": "code",
   "execution_count": null,
   "metadata": {},
   "outputs": [],
   "source": [
    "def test_bckgrnd_correc_disk():\n",
    "    \n",
    "    return"
   ]
  },
  {
   "cell_type": "markdown",
   "metadata": {},
   "source": [
    "### Function for convert_ to_grayscale"
   ]
  },
  {
   "cell_type": "code",
   "execution_count": null,
   "metadata": {},
   "outputs": [],
   "source": [
    "def convert_to_grayscale(image):\n",
    "    \n",
    "    \"\"\"Converting the image to grayscale - where minimum pixel value is 0.0 and maximum pixel value is 1.0\"\"\"\n",
    "    \n",
    "    # Checking the right data type for the input image\n",
    "    assert type(image) == np.ndarray, ('Wrong data type', 'image must be a numpy array')\n",
    "    \n",
    "    # converting to grayscale\n",
    "    dst = np.zeros(image.shape)\n",
    "    image_gray = cv2.normalize(image, dst, 0.0, 1.0, cv2.NORM_MINMAX)\n",
    "    \n",
    "    # plotting the image\n",
    "    plt.gray()\n",
    "    plt.imshow(image_gray)\n",
    "    plt.colorbar()\n",
    "    \n",
    "    return image_gray"
   ]
  },
  {
   "cell_type": "markdown",
   "metadata": {},
   "source": [
    "### Unit Test for convert_to_grayscale"
   ]
  },
  {
   "cell_type": "code",
   "execution_count": null,
   "metadata": {},
   "outputs": [],
   "source": [
    "def test_convert_to_grayscale():\n",
    "    \n",
    "    return"
   ]
  }
 ],
 "metadata": {
  "kernelspec": {
   "display_name": "Python 3",
   "language": "python",
   "name": "python3"
  },
  "language_info": {
   "codemirror_mode": {
    "name": "ipython",
    "version": 3
   },
   "file_extension": ".py",
   "mimetype": "text/x-python",
   "name": "python",
   "nbconvert_exporter": "python",
   "pygments_lexer": "ipython3",
   "version": "3.6.3"
  }
 },
 "nbformat": 4,
 "nbformat_minor": 2
}
